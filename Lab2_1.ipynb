{
  "nbformat": 4,
  "nbformat_minor": 0,
  "metadata": {
    "colab": {
      "provenance": [],
      "authorship_tag": "ABX9TyOoVHTSEP1UwNZ+ysTVkIMc",
      "include_colab_link": true
    },
    "kernelspec": {
      "name": "python3",
      "display_name": "Python 3"
    },
    "language_info": {
      "name": "python"
    }
  },
  "cells": [
    {
      "cell_type": "markdown",
      "metadata": {
        "id": "view-in-github",
        "colab_type": "text"
      },
      "source": [
        "<a href=\"https://colab.research.google.com/github/Supriyagattu/AIAC/blob/main/Lab2_1.ipynb\" target=\"_parent\"><img src=\"https://colab.research.google.com/assets/colab-badge.svg\" alt=\"Open In Colab\"/></a>"
      ]
    },
    {
      "cell_type": "markdown",
      "source": [
        "\n",
        "\n",
        " **Task 1:** Use Google Gemini in Colab to write a Python function that reads a list of numbers and calculates the mean, minimum, and maximum values.\n",
        "\n",
        "\n",
        "\n"
      ],
      "metadata": {
        "id": "xMEtFkerW7TL"
      }
    },
    {
      "cell_type": "markdown",
      "source": [
        "**Promt**: Write a python program that reads a list of numbers and calculates the mean,minimum,and maximum values"
      ],
      "metadata": {
        "id": "ZfUphivgR-HR"
      }
    },
    {
      "cell_type": "code",
      "source": [
        "write a python program that reads a list of numbers and calculates the mean,minimum,and maximum values\n",
        "\n"
      ],
      "metadata": {
        "id": "eA9H0JNiW_kT"
      },
      "execution_count": null,
      "outputs": []
    },
    {
      "cell_type": "markdown",
      "source": [],
      "metadata": {
        "id": "sbv7W65z3lX9"
      }
    },
    {
      "cell_type": "code",
      "metadata": {
        "colab": {
          "base_uri": "https://localhost:8080/"
        },
        "id": "52bc5e0d",
        "outputId": "2b35cc87-f2d6-42f0-e19b-b757c81f0921"
      },
      "source": [
        "def calculate_stats(numbers):\n",
        "  \"\"\"Calculates the mean, minimum, and maximum of a list of numbers.\n",
        "\n",
        "  Args:\n",
        "    numbers: A list of numbers.\n",
        "\n",
        "  Returns:\n",
        "    A tuple containing the mean, minimum, and maximum values.\n",
        "  \"\"\"\n",
        "  if not numbers:\n",
        "    return None, None, None  # Handle empty list\n",
        "\n",
        "  mean = sum(numbers) / len(numbers)\n",
        "  minimum = min(numbers)\n",
        "  maximum = max(numbers)\n",
        "\n",
        "  return mean, minimum, maximum\n",
        "\n",
        "# Example usage:\n",
        "#my_list = [10, 20, 30, 40, 50]\n",
        "#mean_value, min_value, max_value = calculate_stats(my_list)\n",
        "\n",
        "#print(f\"The list of numbers is: {my_list}\")\n",
        "#print(f\"The mean is: {mean_value}\")\n",
        "#print(f\"The minimum is: {min_value}\")\n",
        "#print(f\"The maximum is: {max_value}\")\n",
        "\n",
        "#You can also get input from the user:\n",
        "user_input = input(\"Enter a list of numbers separated by spaces: \")\n",
        "user_numbers = [float(num) for num in user_input.split()]\n",
        "mean_value, min_value, max_value = calculate_stats(user_numbers)\n",
        "print(f\"The list of numbers is: {user_numbers}\")\n",
        "print(f\"The mean is: {mean_value}\")\n",
        "print(f\"The minimum is: {min_value}\")\n",
        "print(f\"The maximum is: {max_value}\")"
      ],
      "execution_count": null,
      "outputs": [
        {
          "output_type": "stream",
          "name": "stdout",
          "text": [
            "Enter a list of numbers separated by spaces: 12 3 4 5 6 7 8\n",
            "The list of numbers is: [12.0, 3.0, 4.0, 5.0, 6.0, 7.0, 8.0]\n",
            "The mean is: 6.428571428571429\n",
            "The minimum is: 3.0\n",
            "The maximum is: 12.0\n"
          ]
        }
      ]
    },
    {
      "cell_type": "markdown",
      "source": [
        "**EXPLAINATION OF THIS CODE**: This code defines a function calculate_stats that computes the mean, minimum, and maximum of a list of numbers. It then takes user input, converts it to a list of numbers, and uses the function to display the calculated statistics."
      ],
      "metadata": {
        "id": "TqrWpDctccFV"
      }
    },
    {
      "cell_type": "markdown",
      "source": [],
      "metadata": {
        "id": "EiOtSOq5j8tG"
      }
    },
    {
      "cell_type": "markdown",
      "source": [
        "**Task 2:** Compare Gemini and Copilot outputs for a Python function that checks whether a number is an Armstrong number. Document the steps, prompts, and outputs."
      ],
      "metadata": {
        "id": "p1c0Ut01aKGB"
      }
    },
    {
      "cell_type": "markdown",
      "source": [
        "**Promt**: Write a python program that checks whether a number is an armstrong number."
      ],
      "metadata": {
        "id": "KamrMfbKSI3u"
      }
    },
    {
      "cell_type": "code",
      "source": [
        "write a python program that checks whether a number is an armstrong number."
      ],
      "metadata": {
        "id": "Bv3kpjP6co1K"
      },
      "execution_count": null,
      "outputs": []
    },
    {
      "cell_type": "code",
      "source": [
        "def is_armstrong_number(number):\n",
        "  \"\"\"Checks if a number is an Armstrong number.\n",
        "\n",
        "  An Armstrong number is a number that is the sum of its own digits\n",
        "  each raised to the power of the number of digits.\n",
        "\n",
        "  Args:\n",
        "    number: The number to check.\n",
        "\n",
        "  Returns:\n",
        "    True if the number is an Armstrong number, False otherwise.\n",
        "  \"\"\"\n",
        "  # Convert the number to a string to get the number of digits\n",
        "  num_str = str(number)\n",
        "  num_digits = len(num_str)\n",
        "\n",
        "  # Calculate the sum of digits raised to the power of the number of digits\n",
        "  armstrong_sum = 0\n",
        "  for digit in num_str:\n",
        "    armstrong_sum += int(digit) ** num_digits\n",
        "\n",
        "  # Check if the sum is equal to the original number\n",
        "  return armstrong_sum == number\n",
        "\n",
        "# Get input from the user\n",
        "user_input = input(\"Enter a number to check if it's an Armstrong number: \")\n",
        "\n",
        "try:\n",
        "  num_to_check = int(user_input)\n",
        "  if is_armstrong_number(num_to_check):\n",
        "    print(f\"{num_to_check} is an Armstrong number.\")\n",
        "  else:\n",
        "    print(f\"{num_to_check} is not an Armstrong number.\")\n",
        "except ValueError:\n",
        "  print(\"Invalid input. Please enter an integer.\")"
      ],
      "metadata": {
        "colab": {
          "base_uri": "https://localhost:8080/"
        },
        "id": "CQX-Yw5zc-Sn",
        "outputId": "cdccbb0d-5bbf-474f-8ca0-ca0ad915ced6"
      },
      "execution_count": null,
      "outputs": [
        {
          "output_type": "stream",
          "name": "stdout",
          "text": [
            "Enter a number to check if it's an Armstrong number: 153\n",
            "153 is an Armstrong number.\n"
          ]
        }
      ]
    },
    {
      "cell_type": "markdown",
      "source": [
        "**EXPLAINATION OF THIS CODE:**This code defines a function is_armstrong_number that checks if a number is equal to the sum of its digits, each raised to the power of the number of digits. It then takes a number as input from the user and uses the function to determine and print if it's an Armstrong number."
      ],
      "metadata": {
        "id": "pCcuX97Xdapk"
      }
    },
    {
      "cell_type": "markdown",
      "source": [
        "![Screenshot 2025-08-11 105140.png](data:image/png;base64,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)"
      ],
      "metadata": {
        "id": "jbhSTbsqlRdQ"
      }
    },
    {
      "cell_type": "markdown",
      "source": [],
      "metadata": {
        "id": "3U5WlARikv9h"
      }
    },
    {
      "cell_type": "markdown",
      "source": [
        "**OBERVATION:** The difference between two codes in two different websites is that in google colab  done by the single formula and explained step by step briefly using if else and exceptions meanwhile in copilote it done by the direct single steps.The main part of the script takes user input, calls the function, and prints whether the number is an Armstrong number."
      ],
      "metadata": {
        "id": "Twor9W733E2I"
      }
    },
    {
      "cell_type": "markdown",
      "source": [
        "\n",
        "**Task 3:** Ask Gemini to explain a Python function (e.g., is_prime(n) or is_palindrome(s)) line by line.\n",
        " Choose either a prime-checking or palindrome-checking function and document the explanation provided by Gemini."
      ],
      "metadata": {
        "id": "B0mo9Mi2U6IR"
      }
    },
    {
      "cell_type": "markdown",
      "source": [
        "**Promt:** Write a python program that checks whether a number is an armstrong number."
      ],
      "metadata": {
        "id": "c8fiJzbzSUqD"
      }
    },
    {
      "cell_type": "code",
      "source": [
        "write a python program to choose either a prime-checking or palindrome-checking function\n"
      ],
      "metadata": {
        "id": "lhiV0-JmWpRl"
      },
      "execution_count": null,
      "outputs": []
    },
    {
      "cell_type": "code",
      "source": [],
      "metadata": {
        "id": "JPSwAQZkScPi"
      },
      "execution_count": null,
      "outputs": []
    },
    {
      "cell_type": "code",
      "source": [
        "def is_prime(num):\n",
        "  \"\"\"Checks if a number is prime.\"\"\"\n",
        "  if num <= 1:\n",
        "    return False\n",
        "  for i in range(2, int(num**0.5) + 1):\n",
        "    if num % i == 0:\n",
        "      return False\n",
        "  return True\n",
        "\n",
        "def is_palindrome(text):\n",
        "  \"\"\"Checks if a string is a palindrome.\"\"\"\n",
        "  text = text.lower().replace(\" \", \"\")\n",
        "  return text == text[::-1]\n",
        "\n",
        "print(\"Choose an option:\")\n",
        "print(\"1. Check if a number is prime\")\n",
        "print(\"2. Check if a string is a palindrome\")\n",
        "\n",
        "choice = input(\"Enter your choice (1 or 2): \")\n",
        "\n",
        "if choice == '1':\n",
        "  try:\n",
        "    num_to_check = int(input(\"Enter a number: \"))\n",
        "    if is_prime(num_to_check):\n",
        "      print(f\"{num_to_check} is a prime number.\")\n",
        "    else:\n",
        "      print(f\"{num_to_check} is not a prime number.\")\n",
        "  except ValueError:\n",
        "    print(\"Invalid input. Please enter an integer.\")\n",
        "elif choice == '2':\n",
        "  text_to_check = input(\"Enter a string: \")\n",
        "  if is_palindrome(text_to_check):\n",
        "    print(f\"'{text_to_check}' is a palindrome.\")\n",
        "  else:\n",
        "    print(f\"'{text_to_check}' is not a palindrome.\")\n",
        "else:\n",
        "  print(\"Invalid choice. Please enter 1 or 2.\")"
      ],
      "metadata": {
        "colab": {
          "base_uri": "https://localhost:8080/"
        },
        "id": "1myDG424NIjn",
        "outputId": "37267dc4-a8cb-4ec8-ccb9-afafd882e955"
      },
      "execution_count": null,
      "outputs": [
        {
          "output_type": "stream",
          "name": "stdout",
          "text": [
            "Choose an option:\n",
            "1. Check if a number is prime\n",
            "2. Check if a string is a palindrome\n",
            "Enter your choice (1 or 2): 1\n",
            "Enter a number: 23\n",
            "23 is a prime number.\n"
          ]
        }
      ]
    },
    {
      "cell_type": "markdown",
      "source": [
        "**EXPLAINATION OF THE CODE:**This program defines two functions: is_prime(num) checks if a number is prime by iterating from 2 up to the square root of the number, and is_palindrome(text) checks if a string is a palindrome by converting it to lowercase and removing spaces before comparing it to its reverse. The program then prompts the user to choose between these two checks, takes the appropriate input (a number or a string), and calls the selected function to display the result. Input validation is included to handle non-integer input for the prime check."
      ],
      "metadata": {
        "id": "aYwlsuErNeGP"
      }
    },
    {
      "cell_type": "markdown",
      "source": [
        "**Task 4:** Install and configure Cursor AI. Use it to generate a Python function (e.g., sum of the first N natural numbers) and test its output.\n",
        "Optionally, compare Cursor AI’s generated code with Gemini’s output.\n"
      ],
      "metadata": {
        "id": "2Ubn9bpVXoyt"
      }
    },
    {
      "cell_type": "markdown",
      "source": [
        "**Promt:** Write a python program to generate a python function of sum of the N natural numbers and test and with input values"
      ],
      "metadata": {
        "id": "8Uacv0ejSe26"
      }
    },
    {
      "cell_type": "code",
      "source": [
        "write a python program to generate a python function of sum of the N natural numbers and test its output"
      ],
      "metadata": {
        "id": "MehIcEGjZYHt"
      },
      "execution_count": null,
      "outputs": []
    },
    {
      "cell_type": "code",
      "source": [
        "def sum_of_natural_numbers(n):\n",
        "  \"\"\"Calculates the sum of the first N natural numbers.\n",
        "\n",
        "  Args:\n",
        "    n: The number of natural numbers to sum.\n",
        "\n",
        "  Returns:\n",
        "    The sum of the first N natural numbers.\n",
        "  \"\"\"\n",
        "  if n < 1:\n",
        "    return 0\n",
        "  return n * (n + 1) // 2\n",
        "\n",
        "# Test the function\n",
        "n_value = 10  # You can change this value to test with a different number\n",
        "sum_result = sum_of_natural_numbers(n_value)\n",
        "\n",
        "print(f\"The sum of the first {n_value} natural numbers is: {sum_result}\")"
      ],
      "metadata": {
        "colab": {
          "base_uri": "https://localhost:8080/"
        },
        "id": "GKq68vspZQwo",
        "outputId": "cc1729e4-cfe4-4efd-994c-182fe0fcaf0c"
      },
      "execution_count": null,
      "outputs": [
        {
          "output_type": "stream",
          "name": "stdout",
          "text": [
            "The sum of the first 10 natural numbers is: 55\n"
          ]
        }
      ]
    },
    {
      "cell_type": "markdown",
      "source": [
        "**EXPLAINTION OF THIS CODE:**This code defines a function sum_of_natural_numbers(n) that calculates the sum of the first n natural numbers using the formula n * (n + 1) // 2. It handles the case where n is less than 1 by returning 0. The code then demonstrates how to use the function with an example value of n=10 and prints the calculated sum."
      ],
      "metadata": {
        "id": "1HQAf38JOVLB"
      }
    },
    {
      "cell_type": "markdown",
      "source": [
        "**Task 5:** Students need to write a Python program to calculate the sum of odd numbers and even numbers in a given tuple.\n",
        "Refactor the code to improve logic and readability."
      ],
      "metadata": {
        "id": "g0XW-gzNO2ai"
      }
    },
    {
      "cell_type": "markdown",
      "source": [
        "**Promt:** Write a python program to calculate the sum of odd numbers and even numbers in a given tuple and refactor the code to improve logic and readability with input values"
      ],
      "metadata": {
        "id": "ZIv1wmSyTAL-"
      }
    },
    {
      "cell_type": "code",
      "source": [
        "Write a python program to calculate the sum of odd numbers and even numbers in a given tuple and refactor the code to improve logic and readability with input values"
      ],
      "metadata": {
        "id": "cV4G_4pjUpZA"
      },
      "execution_count": null,
      "outputs": []
    },
    {
      "cell_type": "markdown",
      "source": [],
      "metadata": {
        "id": "aDfGy8BsS9AW"
      }
    },
    {
      "cell_type": "code",
      "source": [
        "# Original approach (for comparison, not recommended)\n",
        "# def sum_odd_even_tuple_original(data_tuple):\n",
        "#   odd_sum = 0\n",
        "#   even_sum = 0\n",
        "#   for item in data_tuple:\n",
        "#     if item % 2 == 0:\n",
        "#       even_sum += item\n",
        "#     else:\n",
        "#       odd_sum += item\n",
        "#   return odd_sum, even_sum\n",
        "\n",
        "# Refactored approach\n",
        "def calculate_odd_even_sums(numbers):\n",
        "  \"\"\"Calculates the sum of odd and even numbers in a tuple.\n",
        "\n",
        "  Args:\n",
        "    numbers: A tuple of numbers.\n",
        "\n",
        "  Returns:\n",
        "    A tuple containing the sum of odd numbers and the sum of even numbers.\n",
        "  \"\"\"\n",
        "  odd_sum = sum(num for num in numbers if num % 2 != 0)\n",
        "  even_sum = sum(num for num in numbers if num % 2 == 0)\n",
        "  return odd_sum, even_sum\n",
        "\n",
        "# Get input from the user\n",
        "user_input = input(\"Enter numbers separated by spaces to create a tuple: \")\n",
        "try:\n",
        "  user_tuple = tuple(map(int, user_input.split()))\n",
        "\n",
        "  # Calculate and print the sums using the refactored function\n",
        "  odd_sum_result, even_sum_result = calculate_odd_even_sums(user_tuple)\n",
        "\n",
        "  print(f\"The given tuple is: {user_tuple}\")\n",
        "  print(f\"Sum of odd numbers: {odd_sum_result}\")\n",
        "  print(f\"Sum of even numbers: {even_sum_result}\")\n",
        "\n",
        "except ValueError:\n",
        "  print(\"Invalid input. Please enter integers separated by spaces.\")"
      ],
      "metadata": {
        "colab": {
          "base_uri": "https://localhost:8080/"
        },
        "id": "Xiss3gfAQpKO",
        "outputId": "f495a013-f0c9-427b-e57c-99cbf32533f1"
      },
      "execution_count": null,
      "outputs": [
        {
          "output_type": "stream",
          "name": "stdout",
          "text": [
            "Enter numbers separated by spaces to create a tuple: 23 4 5 6 4 6 8\n",
            "The given tuple is: (23, 4, 5, 6, 4, 6, 8)\n",
            "Sum of odd numbers: 28\n",
            "Sum of even numbers: 28\n"
          ]
        }
      ]
    },
    {
      "cell_type": "markdown",
      "source": [
        "**EXPLAINATION OF THIS CODE:**This code defines a function calculate_odd_even_sums(numbers) that takes a tuple of numbers as input. It uses generator expressions with the sum() function to efficiently calculate the sum of odd numbers (those not divisible by 2) and the sum of even numbers (those divisible by 2) within the tuple. The program then prompts the user to enter numbers, converts them into a tuple, and calls the function to display the calculated sums of odd and even numbers. It includes error handling for invalid input.\n",
        "\n"
      ],
      "metadata": {
        "id": "wgQ1WRBhQ5zF"
      }
    }
  ]
}